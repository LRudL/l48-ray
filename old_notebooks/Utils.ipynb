{
 "cells": [
  {
   "cell_type": "code",
   "execution_count": 1,
   "id": "b4a3e24d",
   "metadata": {},
   "outputs": [],
   "source": [
    "import numpy as np\n",
    "import math"
   ]
  },
  {
   "cell_type": "markdown",
   "id": "90503ff5",
   "metadata": {},
   "source": [
    "## Quantum Fidelity\n",
    "\n",
    "This will be used to evaluate the approximated $\\tilde{U}$ through intelligent sampling of the Hermitian, to the ground truth value of $U$. \n",
    "\n",
    "$$ |\\frac{1}{n} Tr(\\tilde{U}^\\dagger U)|^{2} $$"
   ]
  },
  {
   "cell_type": "code",
   "execution_count": 2,
   "id": "04d4d2f0",
   "metadata": {},
   "outputs": [],
   "source": [
    "def fidelity(U_tilde, U, n):\n",
    "    return math.abs(1/n * np.matrix.trace(np.matrix.getH(U_tilde) @ U))**2"
   ]
  },
  {
   "cell_type": "markdown",
   "id": "3556103b",
   "metadata": {},
   "source": [
    "## Unitarity Property\n",
    "\n",
    "This checks whether a matrix is unitary. \n",
    "\n",
    "$$ U\\bar{U}^{T} = I$$"
   ]
  },
  {
   "cell_type": "code",
   "execution_count": 34,
   "id": "8f182374",
   "metadata": {},
   "outputs": [],
   "source": [
    "def unitary(U):\n",
    "    U_conj_trans = np.matrix.conj(U).T\n",
    "    product = U @ U_conj_trans\n",
    "    return np.isclose(product, np.eye(len(product), dtype = complex)).all()"
   ]
  },
  {
   "cell_type": "markdown",
   "id": "5526051f",
   "metadata": {},
   "source": [
    "## Hermitian Property\n",
    "\n",
    "This is a check to see if a matrix is Hermitian. \n",
    "\n",
    "$$ H = \\bar{H}^{T}$$"
   ]
  },
  {
   "cell_type": "code",
   "execution_count": 4,
   "id": "714abea5",
   "metadata": {},
   "outputs": [],
   "source": [
    "def hermitian(H):\n",
    "    H_conj_trans = np.matrix.conj(H).T\n",
    "    return np.array_equal(H, H_conj_trans)"
   ]
  },
  {
   "cell_type": "code",
   "execution_count": 35,
   "id": "dbe800dc",
   "metadata": {},
   "outputs": [
    {
     "name": "stdout",
     "output_type": "stream",
     "text": [
      "Positive test for Unitary Matrix:  True\n",
      "Negative test for Unitary Matrix:  False\n",
      "Positive test for Hermitian Matrix:  True\n",
      "Negative test for Hermitian Matrix:  False\n"
     ]
    }
   ],
   "source": [
    "# testing the unitary property - does not work\n",
    "\n",
    "U = 1/np.sqrt(2)*np.array([[1, -1j], [1, 1j]])\n",
    "not_U = 1/np.sqrt(2)*np.array([[1, -2j], [1, 1j]])\n",
    "\n",
    "print(\"Positive test for Unitary Matrix: \", unitary(U))\n",
    "print(\"Negative test for Unitary Matrix: \", unitary(not_U))\n",
    "\n",
    "# testing the hermitian property\n",
    "\n",
    "H = np.array([[1, 4+3j],[4-3j, 5]])\n",
    "not_H = np.array([[1, 4+3j],[4+3j, 5]])\n",
    "print(\"Positive test for Hermitian Matrix: \", hermitian(H))\n",
    "print(\"Negative test for Hermitian Matrix: \", hermitian(not_H))"
   ]
  },
  {
   "cell_type": "code",
   "execution_count": null,
   "id": "1265e1be",
   "metadata": {},
   "outputs": [],
   "source": []
  }
 ],
 "metadata": {
  "kernelspec": {
   "display_name": "Python 3 (ipykernel)",
   "language": "python",
   "name": "python3"
  },
  "language_info": {
   "codemirror_mode": {
    "name": "ipython",
    "version": 3
   },
   "file_extension": ".py",
   "mimetype": "text/x-python",
   "name": "python",
   "nbconvert_exporter": "python",
   "pygments_lexer": "ipython3",
   "version": "3.9.7"
  }
 },
 "nbformat": 4,
 "nbformat_minor": 5
}
